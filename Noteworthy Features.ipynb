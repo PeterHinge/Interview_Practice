{
 "cells": [
  {
   "cell_type": "markdown",
   "metadata": {},
   "source": [
    "Feature: Way of checking all continuous subarrays of an array.\n",
    "\n",
    "Question: Given an array A[] of N positive integers. The task is to find the maximum of j - i subjected to the constraint of\n",
    "A[i] <= A[j].\n",
    "\n",
    "Example:\n",
    "max_distance([34, 8, 10, 3, 2, 80, 30, 33, 1])\n",
    "Output: 6\n",
    "Reason: array[1] <= array[7] (8 <= 33)"
   ]
  },
  {
   "cell_type": "code",
   "execution_count": 17,
   "metadata": {},
   "outputs": [],
   "source": [
    "def max_distance(array):\n",
    "    max_dist = None\n",
    "    \n",
    "    dist = len(array) - 1\n",
    "    times = 1\n",
    "    \n",
    "    while max_dist is None and dist != 0:\n",
    "        \n",
    "        for i in range(times):\n",
    "            \n",
    "            if array[i] <= array[dist + i]:\n",
    "                max_dist = array.index(array[dist + i]) - array.index(array[i])\n",
    "                return max_dist\n",
    "                \n",
    "        dist -= 1\n",
    "        times += 1\n",
    "        \n",
    "    return max_dist"
   ]
  },
  {
   "cell_type": "code",
   "execution_count": 18,
   "metadata": {},
   "outputs": [
    {
     "name": "stdout",
     "output_type": "stream",
     "text": [
      "6\n"
     ]
    }
   ],
   "source": [
    "print(max_distance([34, 8, 10, 3, 2, 80, 30, 33, 1]))"
   ]
  },
  {
   "cell_type": "markdown",
   "metadata": {},
   "source": [
    "Feature: Using reversed traversal to remove elements in array, thereby avoiding that a forward traversal skips over elements. \n",
    "\n",
    "Question: Given a list of possibly overlapping intervals, return a new list of intervals where all overlapping\n",
    "intervals have been merged. The input list is not necessarily ordered in any way. \n",
    "\n",
    "Example: \n",
    "overlapping([(1, 3), (5, 8), (4, 10), (20, 25)])\n",
    "Output: [(1, 3), (4, 10), (20, 25)]."
   ]
  },
  {
   "cell_type": "code",
   "execution_count": 19,
   "metadata": {},
   "outputs": [],
   "source": [
    "def overlapping(array):\n",
    "    no_overlap = []\n",
    "\n",
    "    while len(array) != 0:\n",
    "        current_low = None\n",
    "        current_high = None\n",
    "\n",
    "        for interval in array:\n",
    "            if current_low is None or interval[0] < current_low:\n",
    "                current_low = interval[0]\n",
    "                current_high = interval[1]\n",
    "\n",
    "        check = True\n",
    "\n",
    "        while check:\n",
    "\n",
    "            check = False\n",
    "\n",
    "            for interval in reversed(array):\n",
    "                if interval[0] >= current_low and interval[1] <= current_high:\n",
    "                    array.remove(interval)\n",
    "\n",
    "                elif interval[1] >= current_high >= interval[0] >= current_low:\n",
    "                    current_high = interval[1]\n",
    "                    array.remove(interval)\n",
    "                    check = True\n",
    "\n",
    "        no_overlap.append((current_low, current_high))\n",
    "\n",
    "    return no_overlap"
   ]
  },
  {
   "cell_type": "code",
   "execution_count": 20,
   "metadata": {},
   "outputs": [
    {
     "name": "stdout",
     "output_type": "stream",
     "text": [
      "[(1, 3), (4, 10), (20, 25)]\n"
     ]
    }
   ],
   "source": [
    "print(overlapping([(1, 3), (5, 8), (4, 10), (20, 25)]))"
   ]
  },
  {
   "cell_type": "code",
   "execution_count": null,
   "metadata": {},
   "outputs": [],
   "source": []
  }
 ],
 "metadata": {
  "kernelspec": {
   "display_name": "Python 3",
   "language": "python",
   "name": "python3"
  },
  "language_info": {
   "codemirror_mode": {
    "name": "ipython",
    "version": 3
   },
   "file_extension": ".py",
   "mimetype": "text/x-python",
   "name": "python",
   "nbconvert_exporter": "python",
   "pygments_lexer": "ipython3",
   "version": "3.7.3"
  }
 },
 "nbformat": 4,
 "nbformat_minor": 2
}
